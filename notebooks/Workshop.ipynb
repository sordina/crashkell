{
 "cells": [
  {
   "cell_type": "markdown",
   "metadata": {},
   "source": [
    "\n",
    "<br>\n",
    "\n",
    "![](images/crashkell-logo.png)\n",
    "\n",
    "### Learn Haskell by Crashing!\n",
    "\n",
    "\n",
    "*Lyndon Maydwell ~\n",
    "  [github.com/sordina](https://github.com/sordina/crashkell#crashkell-workshop) ~\n",
    "  [mybinder.org](https://mybinder.org/v2/gh/sordina/crashkell/master)*\n",
    "  \n",
    "Run cells and fix errors. Create new cells to experiment.\n",
    "\n",
    "#### Haskell Reference: <https://www.haskell.org/>\n",
    "\n",
    "#### Jupyter Reference: <http://jupyter.org/>"
   ]
  },
  {
   "cell_type": "markdown",
   "metadata": {},
   "source": [
    "<div id=\"crashkell-toc\"> &nbsp; </div>\n",
    "\n",
    "[Strings](#Chapter:-Strings):\n",
    "\n",
    "* How strings and printing work\n",
    "* Precedence and parentheses\n",
    "* Variables\n",
    "* Simple case statements\n",
    "* Getting type info\n",
    "* Type annotations\n",
    "* *Sorbet: 99 Bottles of String on the Wall*\n",
    "\n",
    "[Tuples](#Chapter:-Tuples):\n",
    "\n",
    "* Constructing tuples\n",
    "\n",
    "[Numbers](#Chapter:-Numbers):\n",
    "\n",
    "* Integers (and Ints)\n",
    "* Addition, etc.\n",
    "* Predecessors/Successors\n",
    "* Floats\n",
    "* Combining Ints and Floats\n",
    "* *Sorbet: GHC as a Calculator*\n",
    "\n",
    "[Booleans](#Chapter:-Booleans):\n",
    "\n",
    "* Booleans and equality\n",
    "* Comparison\n",
    "* 'if' and 'case' statements\n",
    "\n",
    "[Functions](#Chapter:-Functions):\n",
    "\n",
    "* Pattern matching in functions\n",
    "* Partial functions\n",
    "* Guards\n",
    "\n",
    "[Lists](#Chapter:-Lists):\n",
    "\n",
    "* Storing collections of items\n",
    "* List syntax\n",
    "* Products, Sums\n",
    "* Pattern matching\n",
    "* Enumeration\n",
    "\n",
    "[Lambdas](#Chapter:-Lambdas):\n",
    "\n",
    "* Lambda syntax\n",
    "* Using lambdas inline\n",
    "\n",
    "[Data](#Chapter:-Data):\n",
    "\n",
    "* Your own data-types\n",
    "* Constructors\n",
    "* Multiple constructors\n",
    "* Recursive data-types\n",
    "* Parameterised data-types\n",
    "\n",
    "[Classes](#Chapter:-Classes):\n",
    "\n",
    "* Defining classes\n",
    "* Collections of classes\n",
    "* Problems with Collections\n",
    "* IO\n",
    "\n",
    "\n",
    "---\n",
    "\n",
    "![](images/chapters.png)\n"
   ]
  },
  {
   "cell_type": "markdown",
   "metadata": {},
   "source": [
    "## Chapter: Strings"
   ]
  },
  {
   "cell_type": "code",
   "execution_count": null,
   "metadata": {},
   "outputs": [],
   "source": [
    "\"All about strings!"
   ]
  },
  {
   "cell_type": "markdown",
   "metadata": {},
   "source": [
    "<span class=\"hint\">\n",
    "    Strings must be quoted with an open and close quote.\n",
    "</span>"
   ]
  },
  {
   "cell_type": "markdown",
   "metadata": {},
   "source": [
    "### Exercise: \"Hello World\""
   ]
  },
  {
   "cell_type": "code",
   "execution_count": null,
   "metadata": {},
   "outputs": [],
   "source": [
    "prinp \"Hello Sworld\""
   ]
  },
  {
   "cell_type": "markdown",
   "metadata": {},
   "source": [
    "<span class=\"hint\">\n",
    "    You can print anything showable to STDOUT using the \"print\" function.\n",
    "</span>"
   ]
  },
  {
   "cell_type": "markdown",
   "metadata": {},
   "source": [
    "### Exercise: Quoth the Raven\n"
   ]
  },
  {
   "cell_type": "code",
   "execution_count": null,
   "metadata": {},
   "outputs": [],
   "source": [
    "'Nevermore'"
   ]
  },
  {
   "cell_type": "markdown",
   "metadata": {},
   "source": [
    "<span class=\"hint\">\n",
    "    Compare 'N' and \"N\".\n",
    "</span>"
   ]
  },
  {
   "cell_type": "markdown",
   "metadata": {},
   "source": [
    "<span class=\"hint\">\n",
    "    Single quotes are reserved for individual characters.\n",
    "</span>"
   ]
  },
  {
   "cell_type": "markdown",
   "metadata": {},
   "source": [
    "### Exercise: Parens"
   ]
  },
  {
   "cell_type": "code",
   "execution_count": null,
   "metadata": {},
   "outputs": [],
   "source": [
    "(print \"Hi!\"))"
   ]
  },
  {
   "cell_type": "markdown",
   "metadata": {},
   "source": [
    "<span class=\"hint\">\n",
    "    Your parentheses must be balanced.\n",
    "</span>"
   ]
  },
  {
   "cell_type": "markdown",
   "metadata": {},
   "source": [
    "### Exercise: Combining Strings"
   ]
  },
  {
   "cell_type": "code",
   "execution_count": null,
   "metadata": {},
   "outputs": [],
   "source": [
    "print \"Hello\" ++ \"World\""
   ]
  },
  {
   "cell_type": "markdown",
   "metadata": {},
   "source": [
    "<span class=\"hint\">\n",
    "    Precedence matters. Parenthesise your constructed string.\n",
    "</span>"
   ]
  },
  {
   "cell_type": "markdown",
   "metadata": {},
   "source": [
    "### Exercise: Variables"
   ]
  },
  {
   "cell_type": "code",
   "execution_count": null,
   "metadata": {},
   "outputs": [],
   "source": [
    "h = \"Hello\"\n",
    "W = \"World\"\n",
    "p = h ++ \" \" ++ W\n",
    "print p"
   ]
  },
  {
   "cell_type": "markdown",
   "metadata": {},
   "source": [
    "<span class=\"hint\">\n",
    "    Variables must start with a lower-case letter.\n",
    "</span>"
   ]
  },
  {
   "cell_type": "markdown",
   "metadata": {},
   "source": [
    "### Exercise: Case Statements"
   ]
  },
  {
   "cell_type": "code",
   "execution_count": null,
   "metadata": {},
   "outputs": [],
   "source": [
    "x = \"string #1\"\n",
    "y = \"string #2\"\n",
    "z = case x of\n",
    "    \"string #1\" -> \"s1\"\n",
    "    \"string #2\" =  \"s2\"\n",
    "    \"string #3\" -> \"s3\""
   ]
  },
  {
   "cell_type": "markdown",
   "metadata": {},
   "source": [
    "<span class=\"hint\">\n",
    "    Gotta use that arrow!\n",
    "</span>"
   ]
  },
  {
   "cell_type": "markdown",
   "metadata": {},
   "source": [
    "### Exercise: Case Variables"
   ]
  },
  {
   "cell_type": "code",
   "execution_count": null,
   "metadata": {},
   "outputs": [],
   "source": [
    "result = case \"x\" of\n",
    "    y -> \"it's y\"\n",
    "    x -> \"it's x\"\n",
    "\n",
    "case result of\n",
    "    \"it's x\" -> \"How convenient. We don't have to quote strings in case statements!\""
   ]
  },
  {
   "cell_type": "markdown",
   "metadata": {},
   "source": [
    "<span class=\"hint\">\n",
    "    Sometimes the convenience isn't worth it, so then, what is result?\n",
    "</span>"
   ]
  },
  {
   "cell_type": "markdown",
   "metadata": {},
   "source": [
    "### Exercise: Type Information"
   ]
  },
  {
   "cell_type": "code",
   "execution_count": null,
   "metadata": {
    "scrolled": true
   },
   "outputs": [],
   "source": [
    ":type q"
   ]
  },
  {
   "cell_type": "markdown",
   "metadata": {},
   "source": [
    "<span class=\"hint\">\n",
    "    Commands starting with \":\" are special directives for use in GHCi -\n",
    "    An interactive session of the GHC compiler. <br>\n",
    "    We are using iHaskell - which has many of the same features.\n",
    "</span>"
   ]
  },
  {
   "cell_type": "markdown",
   "metadata": {},
   "source": [
    "### Exercise: Type Annotations"
   ]
  },
  {
   "cell_type": "code",
   "execution_count": null,
   "metadata": {},
   "outputs": [],
   "source": [
    "x :: String\n",
    "x = 1"
   ]
  },
  {
   "cell_type": "markdown",
   "metadata": {},
   "source": [
    "<span class=\"hint\">\n",
    "    1 is not a string. You can interrogate 1 with the \":type\" directive for more information.\n",
    "</span>"
   ]
  },
  {
   "cell_type": "markdown",
   "metadata": {},
   "source": [
    "### Sorbet: 99 Bottles of String on the Wall"
   ]
  },
  {
   "cell_type": "code",
   "execution_count": null,
   "metadata": {
    "scrolled": true
   },
   "outputs": [],
   "source": [
    "string_1 = \" bottles of string on the wall, \"\n",
    "string_2 = \" bottles of string on the wall. \"\n",
    "string_3 = \" bottles of string, take one down get it unwound, \"\n",
    "\n",
    "song :: String\n",
    "song = 99 + string_1 + 99 + string_2 + 98 + string_3"
   ]
  },
  {
   "cell_type": "markdown",
   "metadata": {},
   "source": [
    "<span class=\"hint\">\n",
    "    You can't add strings with `+`, you must concatenate them with `++`.\n",
    "</span>"
   ]
  },
  {
   "cell_type": "markdown",
   "metadata": {},
   "source": [
    "## Chapter: Tuples"
   ]
  },
  {
   "cell_type": "code",
   "execution_count": null,
   "metadata": {
    "scrolled": true
   },
   "outputs": [],
   "source": [
    "x = \"awesome string\"\n",
    "y = \"another one\"\n",
    "z = (x,y)\n",
    "\n",
    "wtf = (z, wtf)"
   ]
  },
  {
   "cell_type": "markdown",
   "metadata": {},
   "source": [
    "<span class=\"hint\">\n",
    "    wtf is completely nonsensical.\n",
    "</span>"
   ]
  },
  {
   "cell_type": "markdown",
   "metadata": {},
   "source": [
    "### Exercise: Getting"
   ]
  },
  {
   "cell_type": "code",
   "execution_count": null,
   "metadata": {},
   "outputs": [],
   "source": [
    "stuff = (123,\"hello!\")\n",
    "\n",
    "fst stuff ++ snd stuff"
   ]
  },
  {
   "cell_type": "markdown",
   "metadata": {},
   "source": [
    "<span class=\"hint\">\n",
    "    Either make your number to a string, or make your string to a number!\n",
    "</span>"
   ]
  },
  {
   "cell_type": "markdown",
   "metadata": {},
   "source": [
    "### Exercise: Nesting"
   ]
  },
  {
   "cell_type": "code",
   "execution_count": null,
   "metadata": {
    "scrolled": false
   },
   "outputs": [],
   "source": [
    "warehouse = ((\"a\",\"b\"),(\"c\",(\"d\",\"e\",\"f\")))\n",
    "fst (snd warehouse) ++ fst (snd (snd warehouse))"
   ]
  },
  {
   "cell_type": "markdown",
   "metadata": {},
   "source": [
    "<span class=\"hint\">\n",
    "    fst and snd only work on tuples of length 2. Adjust your warehouse to only contain tuple pairs. No triples.\n",
    "</span>"
   ]
  },
  {
   "cell_type": "markdown",
   "metadata": {},
   "source": [
    "## Chapter: Numbers"
   ]
  },
  {
   "cell_type": "code",
   "execution_count": null,
   "metadata": {},
   "outputs": [],
   "source": [
    "1 ? 1"
   ]
  },
  {
   "cell_type": "markdown",
   "metadata": {},
   "source": [
    "<span class=\"hint\">\n",
    "    You can combine numbers with the usual arithmetic operations such as +, *, etc.\n",
    "</span>"
   ]
  },
  {
   "cell_type": "markdown",
   "metadata": {},
   "source": [
    "### Exercise: BFIMDAS"
   ]
  },
  {
   "cell_type": "code",
   "execution_count": null,
   "metadata": {},
   "outputs": [],
   "source": [
    "case 2 * 2 + 3   of 7  -> \"Yay!\"\n",
    "case 3 + 2 * 2   of 10 -> \"Woo!\"\n",
    "case (3 + 2) * 2 of 10 -> \"Hurray!\""
   ]
  },
  {
   "cell_type": "markdown",
   "metadata": {},
   "source": [
    "<div class=\"hint\">\n",
    "    BFIMDAS precendence is followed. Use parens for specific groupings.\n",
    "    <br>\n",
    "    <ul>\n",
    "        <li>Brackets\n",
    "        <li>Functions\n",
    "        <li>Indices\n",
    "        <li>Multiplication\n",
    "        <li>Division\n",
    "        <li>Addition\n",
    "        <li>Subtraction\n",
    "    </ul>\n",
    "</div>"
   ]
  },
  {
   "cell_type": "markdown",
   "metadata": {},
   "source": [
    "### Exercise: Predecessors and Successors"
   ]
  },
  {
   "cell_type": "code",
   "execution_count": null,
   "metadata": {},
   "outputs": [],
   "source": [
    "predescessor_property n = pred n == n - 1\n",
    "successor_property    n = succ n == n + 1\n",
    "\n",
    "case predescessor_property 1\n",
    "    of False -> \"that's unexpected\"\n",
    "    \n",
    "case successor_property 1\n",
    "    of False -> \"that's unexpected\""
   ]
  },
  {
   "cell_type": "markdown",
   "metadata": {},
   "source": [
    "<div class=\"hint\">\n",
    "    You would expect these properties to hold, would you not? <br>\n",
    "    Try anticipating that in the case statement.\n",
    "</div>"
   ]
  },
  {
   "cell_type": "markdown",
   "metadata": {},
   "source": [
    "### Exercise: Integers and Doubles"
   ]
  },
  {
   "cell_type": "code",
   "execution_count": null,
   "metadata": {},
   "outputs": [],
   "source": [
    "x :: Integer\n",
    "x = 1\n",
    "\n",
    "y :: Double\n",
    "y = 1\n",
    "\n",
    "x + y"
   ]
  },
  {
   "cell_type": "markdown",
   "metadata": {},
   "source": [
    "<div class=\"hint\">\n",
    "    You can only add numbers of the same type.\n",
    "</div>"
   ]
  },
  {
   "cell_type": "markdown",
   "metadata": {},
   "source": [
    "### Exercise: Pythagoras's Theorem"
   ]
  },
  {
   "cell_type": "code",
   "execution_count": null,
   "metadata": {
    "scrolled": false
   },
   "outputs": [],
   "source": [
    "adjacent :: Integer\n",
    "adjacent = 3\n",
    "\n",
    "opposite :: Integer\n",
    "opposite = 4\n",
    "\n",
    "hypotenuse :: Integer\n",
    "hypotenuse = sqrt (adjacent ** 2 + opposite ** 2)\n",
    "\n",
    "case hypotenuse of 5 -> \"Maths!\""
   ]
  },
  {
   "cell_type": "markdown",
   "metadata": {},
   "source": [
    "<div class=\"hint\">\n",
    "    Although the result is an integer, the intermediate values in the equation are not.\n",
    "</div>"
   ]
  },
  {
   "cell_type": "markdown",
   "metadata": {},
   "source": [
    "## Chapter: Booleans"
   ]
  },
  {
   "cell_type": "code",
   "execution_count": null,
   "metadata": {},
   "outputs": [],
   "source": [
    "result = case odd 0 of\n",
    "    false -> \"weird... but ok!\"\n",
    "    true  -> \"expected\"\n",
    "\n",
    "case result of\n",
    "    \"expected\" -> \"No problems here!\""
   ]
  },
  {
   "cell_type": "markdown",
   "metadata": {},
   "source": [
    "<span class=\"hint\">\n",
    "    Booleans True and False start with capital letters.\n",
    "</span>"
   ]
  },
  {
   "cell_type": "markdown",
   "metadata": {},
   "source": [
    "### Exercise: Equality Comparison"
   ]
  },
  {
   "cell_type": "code",
   "execution_count": null,
   "metadata": {},
   "outputs": [],
   "source": [
    "1 + 1 == \"Two\""
   ]
  },
  {
   "cell_type": "markdown",
   "metadata": {},
   "source": [
    "<span class=\"hint\">\n",
    "    Only things of the same type can be compared for equality.\n",
    "    For example: Two numbers, two strings, etc.\n",
    "</span>\n"
   ]
  },
  {
   "cell_type": "markdown",
   "metadata": {},
   "source": [
    "### Exercise: If statements"
   ]
  },
  {
   "cell_type": "code",
   "execution_count": null,
   "metadata": {
    "scrolled": true
   },
   "outputs": [],
   "source": [
    "if 1 = 2\n",
    "    then print \"weird\"\n",
    "    else print \"expected\""
   ]
  },
  {
   "cell_type": "markdown",
   "metadata": {},
   "source": [
    "<span class=\"hint\">\n",
    "    Equality is queried with the 'double-equals' operator.\n",
    "</span>"
   ]
  },
  {
   "cell_type": "markdown",
   "metadata": {},
   "source": [
    "### Exercise: Not"
   ]
  },
  {
   "cell_type": "code",
   "execution_count": null,
   "metadata": {},
   "outputs": [],
   "source": [
    "test :: Bool\n",
    "test = 5 == 10 - 4 - 1\n",
    "\n",
    "result :: Bool\n",
    "result = if not test\n",
    "    then \"right precedence\"\n",
    "    else \"left precedence\"\n",
    "    \n",
    "print result"
   ]
  },
  {
   "cell_type": "markdown",
   "metadata": {},
   "source": [
    "<span class=\"hint\">\n",
    "    The type of the result of an if expression is the type of its branches.\n",
    "</span>"
   ]
  },
  {
   "cell_type": "markdown",
   "metadata": {},
   "source": [
    "## Chapter: Functions"
   ]
  },
  {
   "cell_type": "code",
   "execution_count": null,
   "metadata": {},
   "outputs": [],
   "source": [
    "function squared x = x ** 2\n",
    "function hypotenuse adjacent opposite = sqrt (squared adjacent + squared opposite)"
   ]
  },
  {
   "cell_type": "markdown",
   "metadata": {},
   "source": [
    "<span class=\"hint\">\n",
    "    No function keyword required! Just define it!\n",
    "</span>"
   ]
  },
  {
   "cell_type": "markdown",
   "metadata": {},
   "source": [
    "### Exercise: Matching Arguments"
   ]
  },
  {
   "cell_type": "code",
   "execution_count": null,
   "metadata": {
    "scrolled": false
   },
   "outputs": [],
   "source": [
    "comparison x x = True\n",
    "comparison x y = False\n",
    "\n",
    "case comparison 1 2 of False -> True"
   ]
  },
  {
   "cell_type": "markdown",
   "metadata": {},
   "source": [
    "<span class=\"hint\">\n",
    "    You can't perform equality comparisons implicitly by referencing arguments multiple times...\n",
    "</span>"
   ]
  },
  {
   "cell_type": "markdown",
   "metadata": {},
   "source": [
    "### Exercise: Guards"
   ]
  },
  {
   "cell_type": "code",
   "execution_count": null,
   "metadata": {},
   "outputs": [],
   "source": [
    "test arg\n",
    "    | arg like \"good\"     = \"pass\"\n",
    "    | arg like \"mediocre\" = \"barely pass\"\n",
    "    | True                = \"fail\"\n",
    "    \n",
    "test \"terrible\""
   ]
  },
  {
   "cell_type": "markdown",
   "metadata": {},
   "source": [
    "<span class=\"hint\">\n",
    "    Haskell isn't SQL, find a function other than `like`.\n",
    "</span>"
   ]
  },
  {
   "cell_type": "markdown",
   "metadata": {},
   "source": [
    "### Exercise: Operators"
   ]
  },
  {
   "cell_type": "code",
   "execution_count": null,
   "metadata": {
    "scrolled": true
   },
   "outputs": [],
   "source": [
    "(?!!!) :: Bool -> Bool -> String\n",
    "a ?!!! b = if a\n",
    "            then not (not (not b))\n",
    "            else b"
   ]
  },
  {
   "cell_type": "markdown",
   "metadata": {},
   "source": [
    "<span class=\"hint\">\n",
    "    Bools all the way! Also, this function could be much simpler.\n",
    "</span>"
   ]
  },
  {
   "cell_type": "markdown",
   "metadata": {},
   "source": [
    "### Exercise: Dollerydoos"
   ]
  },
  {
   "cell_type": "code",
   "execution_count": null,
   "metadata": {
    "scrolled": true
   },
   "outputs": [],
   "source": [
    "print $ 1 + $ 1 * 1"
   ]
  },
  {
   "cell_type": "markdown",
   "metadata": {},
   "source": [
    "<span class=\"hint\">\n",
    "    Dollars are great for eliminating parens, but don't put them adjacent to operators!\n",
    "</span>"
   ]
  },
  {
   "cell_type": "markdown",
   "metadata": {},
   "source": [
    "### Exercise: Referencing Operators"
   ]
  },
  {
   "cell_type": "code",
   "execution_count": null,
   "metadata": {},
   "outputs": [],
   "source": [
    "plus :: Integer -> Integer -> Integer\n",
    "plus = (+)\n",
    "1 plus 2"
   ]
  },
  {
   "cell_type": "markdown",
   "metadata": {},
   "source": [
    "<span class=\"hint\">\n",
    "    The precedence of a function doesn't follow the original definition, only its most recent definition.\n",
    "</span>"
   ]
  },
  {
   "cell_type": "markdown",
   "metadata": {},
   "source": [
    "### Exercise: Recursion"
   ]
  },
  {
   "cell_type": "code",
   "execution_count": null,
   "metadata": {
    "scrolled": true
   },
   "outputs": [],
   "source": [
    "factorial n | n < 2 = 1\n",
    "            | else  = n * factorial (n - 1)\n",
    "            \n",
    "factorial 10"
   ]
  },
  {
   "cell_type": "markdown",
   "metadata": {},
   "source": [
    "<span class=\"hint\">\n",
    "    Guards contain patterns, so variables are allowed. However, they are not related to if statements.\n",
    "</span>"
   ]
  },
  {
   "cell_type": "markdown",
   "metadata": {},
   "source": [
    "### Exercise: Collatz Conjecture"
   ]
  },
  {
   "cell_type": "code",
   "execution_count": null,
   "metadata": {
    "scrolled": false
   },
   "outputs": [],
   "source": [
    "step n | even n    = div n 2\n",
    "       | otherwise = n * 3 + 1\n",
    "\n",
    "collatz 1 = print 0\n",
    "collatz n = 1 + collatz (step n)\n",
    "\n",
    "collatz 27"
   ]
  },
  {
   "cell_type": "markdown",
   "metadata": {},
   "source": [
    "<span class=\"hint\">\n",
    "    Compare the types of the first definition of collatz and the second.\n",
    "</span>"
   ]
  },
  {
   "cell_type": "markdown",
   "metadata": {},
   "source": [
    "### Exercise: Currying"
   ]
  },
  {
   "cell_type": "code",
   "execution_count": null,
   "metadata": {
    "scrolled": true
   },
   "outputs": [],
   "source": [
    "append b a = a ++ b\n",
    "exclaim a = append \"!\"\n",
    "\n",
    "exclaim \"hi\""
   ]
  },
  {
   "cell_type": "markdown",
   "metadata": {},
   "source": [
    "<span class=\"hint\">\n",
    "    Sure, you could reference the `a` variable in the append call, or... you could remove it from the exclaim definition!\n",
    "</span>"
   ]
  },
  {
   "cell_type": "markdown",
   "metadata": {},
   "source": [
    "### Higher Order Functions: Project Euler No. 1\n",
    "\n",
    "> If we list all the natural numbers below 10 that are multiples of 3 or 5, we get 3, 5, 6 and 9. The sum of these multiples is 23. <br>\n",
    "> Find the sum of all the multiples of 3 or 5 below 1000.\n",
    "\n",
    "<https://projecteuler.net/>"
   ]
  },
  {
   "cell_type": "code",
   "execution_count": null,
   "metadata": {},
   "outputs": [],
   "source": [
    "multiple3 x = mod x 3\n",
    "multiple5 x = mod x 5\n",
    "\n",
    "euler f 0 = 0\n",
    "euler f n | multiple3 n = f n (euler f (pred n))\n",
    "          | multiple5 n = f n (euler f (pred n))\n",
    "          | otherwise   = euler f (pred n)\n",
    "          \n",
    "problem1 = euler +\n",
    "\n",
    "problem1 10000"
   ]
  },
  {
   "cell_type": "markdown",
   "metadata": {},
   "source": [
    "<span class=\"hint\">\n",
    "    Check the types of `multiple3` and `multiple5`. Are they what you are expecting?\n",
    "</span>"
   ]
  },
  {
   "cell_type": "markdown",
   "metadata": {},
   "source": [
    "<span class=\"hint\">\n",
    "    Is the `+` function being passed in to the `euler` function in the correct manner?\n",
    "</span>"
   ]
  },
  {
   "cell_type": "markdown",
   "metadata": {},
   "source": [
    "## Chapter: Lists"
   ]
  },
  {
   "cell_type": "code",
   "execution_count": null,
   "metadata": {},
   "outputs": [],
   "source": [
    "[1,2,3"
   ]
  },
  {
   "cell_type": "markdown",
   "metadata": {},
   "source": [
    "<span class=\"hint\">\n",
    "    Use balanced square braces to construct lists!\n",
    "</span>"
   ]
  },
  {
   "cell_type": "markdown",
   "metadata": {},
   "source": [
    "### Exercise: Consing"
   ]
  },
  {
   "cell_type": "code",
   "execution_count": null,
   "metadata": {},
   "outputs": [],
   "source": [
    "x, y :: Int\n",
    "x = 1\n",
    "y = 2\n",
    "\n",
    "x : y"
   ]
  },
  {
   "cell_type": "markdown",
   "metadata": {},
   "source": [
    "<span class=\"hint\">\n",
    "    You cons (`:`) an element onto a list, not two elements or two lists.\n",
    "</span>"
   ]
  },
  {
   "cell_type": "markdown",
   "metadata": {},
   "source": [
    "### Exercise: Products, Sums"
   ]
  },
  {
   "cell_type": "code",
   "execution_count": null,
   "metadata": {},
   "outputs": [],
   "source": [
    "product (1,2,3,4,5)"
   ]
  },
  {
   "cell_type": "markdown",
   "metadata": {},
   "source": [
    "<span class=\"hint\">\n",
    "    List syntax uses square brackets.\n",
    "</span>"
   ]
  },
  {
   "cell_type": "code",
   "execution_count": null,
   "metadata": {},
   "outputs": [],
   "source": [
    "case sum [1,2,3,4] of 11 -> print \"how odd\""
   ]
  },
  {
   "cell_type": "markdown",
   "metadata": {},
   "source": [
    "### Exercise: Enumeration"
   ]
  },
  {
   "cell_type": "code",
   "execution_count": null,
   "metadata": {},
   "outputs": [],
   "source": [
    "case [1..10] of [1,10] -> \"Is this, [1,10]?\""
   ]
  },
  {
   "cell_type": "markdown",
   "metadata": {},
   "source": [
    "<span class=\"hint\">\n",
    "    The `[a .. b]` syntax denotes a range. Would the range be inclusive or exclusive?\n",
    "</span>"
   ]
  },
  {
   "cell_type": "markdown",
   "metadata": {},
   "source": [
    "### Exercise: Explicit Enumeration"
   ]
  },
  {
   "cell_type": "code",
   "execution_count": null,
   "metadata": {},
   "outputs": [],
   "source": [
    "case enumFromTo 1 6 of [1..6] -> \"I'm feeling confident!\""
   ]
  },
  {
   "cell_type": "markdown",
   "metadata": {},
   "source": [
    "<span class=\"hint\">\n",
    "    You are restricted to simple patterns in case clauses.<br>\n",
    "    Try an if-statement here instead.\n",
    "</span>"
   ]
  },
  {
   "cell_type": "markdown",
   "metadata": {},
   "source": [
    "### Exercise: Sorting"
   ]
  },
  {
   "cell_type": "code",
   "execution_count": null,
   "metadata": {
    "scrolled": false
   },
   "outputs": [],
   "source": [
    "mergeSort :: [Integer] -> [Int]\n",
    "mergeSort x =\n",
    "    if length x < 2\n",
    "      then x\n",
    "      else merge (mergeSort l) (mergeSort r)\n",
    "    where\n",
    "    (l, r) = split x\n",
    "\n",
    "split :: [a] -> ([a],[b])\n",
    "split x =\n",
    "    case length x of\n",
    "      0 -> ([],[])\n",
    "      1 ->\n",
    "        let h = head x\n",
    "            t = tail x\n",
    "            s = split t\n",
    "            l = fst s\n",
    "            r = snd s\n",
    "            in (h:l, r)\n",
    "      otherwise ->\n",
    "        let h1 = head x\n",
    "            h2 = head (tail x)\n",
    "            t  = tail (tail x)\n",
    "            s  = split t\n",
    "            l  = fst s\n",
    "            r  = snd s\n",
    "            in (h1:l, h2:r)\n",
    "\n",
    "merge :: [Integer] -> [Integer] -> [Integer]\n",
    "merge l r\n",
    "  | null r = l\n",
    "  | null l = r\n",
    "  | otherwise =\n",
    "      let lh = head l\n",
    "          lt = tail l\n",
    "          rh = head r\n",
    "          rt = tail r\n",
    "        in if lh < rh\n",
    "             then lh : merge lt r\n",
    "             else rh : merge l rt\n",
    "                    \n",
    "mergeSort [1,99,2,3,4,5,88,6]"
   ]
  },
  {
   "cell_type": "markdown",
   "metadata": {},
   "source": [
    "<span class=\"hint\">\n",
    "    Your types must line up!\n",
    "</span>"
   ]
  },
  {
   "cell_type": "markdown",
   "metadata": {},
   "source": [
    "### Exercise: Mapping"
   ]
  },
  {
   "cell_type": "code",
   "execution_count": null,
   "metadata": {},
   "outputs": [],
   "source": [
    "map (pred pred) [1..10]"
   ]
  },
  {
   "cell_type": "markdown",
   "metadata": {},
   "source": [
    "### Exercise: Indexing!"
   ]
  },
  {
   "cell_type": "code",
   "execution_count": null,
   "metadata": {},
   "outputs": [],
   "source": [
    "indexA e l = let h = head l\n",
    "                 t = tail l\n",
    "               in if e == h\n",
    "                    then 0\n",
    "                    else 1 + indexA e t\n",
    "\n",
    "indexA 7 []"
   ]
  },
  {
   "cell_type": "code",
   "execution_count": null,
   "metadata": {},
   "outputs": [],
   "source": [
    "-- Much cooler way to find the index of an element\n",
    "\n",
    "indexB e l = helper indexed\n",
    "    where\n",
    "    indexed = map (is e) (zip [0..] l)\n",
    "    \n",
    "is e x = e == snd x\n",
    "\n",
    "helper l | snd (head l) = 0\n",
    "         | otherwise    = 1 + helper (tail l)\n",
    "\n",
    "indexB 'm' ['a'..'z']"
   ]
  },
  {
   "cell_type": "code",
   "execution_count": null,
   "metadata": {},
   "outputs": [],
   "source": [
    "indexC e l = snd $ head $ mergeSort (map (distance e) (zip [0..] l))\n",
    "\n",
    "distance e x = abs (e - snd x)\n",
    "\n",
    "indexC 55 [21..211]"
   ]
  },
  {
   "cell_type": "markdown",
   "metadata": {},
   "source": [
    "<span class=\"hint\">\n",
    "    The distance function should include the index.\n",
    "</span>"
   ]
  },
  {
   "cell_type": "markdown",
   "metadata": {},
   "source": [
    "### Exercise: Euler with Map"
   ]
  },
  {
   "cell_type": "code",
   "execution_count": null,
   "metadata": {},
   "outputs": [],
   "source": [
    "multiple3 x = mod x 3\n",
    "multiple5 x = mod x 5\n",
    "\n",
    "eulerPat n | mod n 3   = n\n",
    "           | mod n 5   = n\n",
    "           | otherwise = 0\n",
    "          \n",
    "problem1 = sum $ map eulerPat [1..10000]"
   ]
  },
  {
   "cell_type": "markdown",
   "metadata": {},
   "source": [
    "<span class=\"hint\">\n",
    "    You need a boolean expression in your guards. Check the type of mod.\n",
    "</span>"
   ]
  },
  {
   "cell_type": "markdown",
   "metadata": {},
   "source": [
    "## Chapter: Patterns"
   ]
  },
  {
   "cell_type": "code",
   "execution_count": null,
   "metadata": {},
   "outputs": [],
   "source": [
    "print (fst (7,8))\n",
    "print (snd (7,8))\n",
    "\n",
    "first  (a,b) = a\n",
    "second (a,b) = b\n",
    "\n",
    "fst == first\n",
    "snd == second"
   ]
  },
  {
   "cell_type": "markdown",
   "metadata": {},
   "source": [
    "<span class=\"hint\">\n",
    "    Guess you can't compare functions like that hey?\n",
    "</span>"
   ]
  },
  {
   "cell_type": "markdown",
   "metadata": {},
   "source": [
    "### Exercise: Pattern Matching on Lists"
   ]
  },
  {
   "cell_type": "code",
   "execution_count": null,
   "metadata": {},
   "outputs": [],
   "source": [
    "nth 0 (x:_ ) = x\n",
    "nth n (_:xs) = nth (pred n) xs\n",
    "\n",
    "print (nth 0 [])\n",
    "print (nth 5 [1,2,3])"
   ]
  },
  {
   "cell_type": "markdown",
   "metadata": {},
   "source": [
    "<span class=\"hint\">\n",
    "    Errors can be raised when results are partially defined!\n",
    "</span>"
   ]
  },
  {
   "cell_type": "markdown",
   "metadata": {},
   "source": [
    "### Exercise: Sorting with Patterns"
   ]
  },
  {
   "cell_type": "code",
   "execution_count": null,
   "metadata": {},
   "outputs": [],
   "source": [
    "-- Once this is all fixed it's much nicer isn't it?\n",
    "\n",
    "mergeSort :: [Integer] -> [Int]\n",
    "mergeSort []  = []\n",
    "mergeSort [x] = [x]\n",
    "mergeSort x   = merge (mergeSort l) (mergeSort r)\n",
    "    where\n",
    "    (l, r) = split x\n",
    "\n",
    "split :: [a] -> ([a],[b])\n",
    "split (h1:h2:t) = let (l,r) = split t in (h1:l, h2:r)\n",
    "split x         = (x,[])\n",
    "\n",
    "merge :: [Integer] -> [Integer] -> [Integer]\n",
    "merge l [] = l\n",
    "merge [] r = r\n",
    "merge (lh:lt) (rh:rt) | lh < rh   = lh : merge lt r\n",
    "                      | otherwise = rh : merge l rt\n",
    "\n",
    "mergeSort [1,99,2,3,4,5,88,6]"
   ]
  },
  {
   "cell_type": "markdown",
   "metadata": {},
   "source": [
    "<span class=\"hint\">\n",
    "    It wouldn't be surprising if the problems were the same as the last time you did this would it?\n",
    "</span>"
   ]
  },
  {
   "cell_type": "markdown",
   "metadata": {},
   "source": [
    "### Exercise: Named patterns"
   ]
  },
  {
   "cell_type": "code",
   "execution_count": null,
   "metadata": {},
   "outputs": [],
   "source": [
    "case [1..9] of\n",
    "    (1,2,3, sublist@(4,5,6), 7,8,9) -> print sublist\n",
    "    _                               -> print \"something else!\""
   ]
  },
  {
   "cell_type": "markdown",
   "metadata": {},
   "source": [
    "<span class=\"hint\">\n",
    "    Let's work with tuples here. Forget the list.\n",
    "</span>"
   ]
  },
  {
   "cell_type": "markdown",
   "metadata": {},
   "source": [
    "## Chapter: Lambdas"
   ]
  },
  {
   "cell_type": "code",
   "execution_count": null,
   "metadata": {
    "scrolled": false
   },
   "outputs": [],
   "source": [
    "map (\\x -> x : x : \"!\") [1..10]"
   ]
  },
  {
   "cell_type": "markdown",
   "metadata": {},
   "source": [
    "### Exercise: Lambda in Lambda"
   ]
  },
  {
   "cell_type": "code",
   "execution_count": null,
   "metadata": {},
   "outputs": [],
   "source": [
    "-- Multiply each element by the first element in its sublist\n",
    "\n",
    "l = [[1,2,3],[4,5,6],[7,8,9]]\n",
    "map (\\x -> map (\\e -> e * x) x) l"
   ]
  },
  {
   "cell_type": "markdown",
   "metadata": {},
   "source": [
    "<span class=\"hint\">\n",
    "    Don't multiply a number by a list.\n",
    "</span>"
   ]
  },
  {
   "cell_type": "markdown",
   "metadata": {},
   "source": [
    "### Exercise: Indexing with the help of a Lambda"
   ]
  },
  {
   "cell_type": "code",
   "execution_count": null,
   "metadata": {},
   "outputs": [],
   "source": [
    "indexC e l = snd $ head $ mergeSort (map (\\x -> abs (e - snd x)) (zip [0..] l))\n",
    "\n",
    "indexC 55 [21..211]"
   ]
  },
  {
   "cell_type": "markdown",
   "metadata": {},
   "source": [
    "<span class=\"hint\">\n",
    "    The distance lambda should also include the index.\n",
    "</span>"
   ]
  },
  {
   "cell_type": "markdown",
   "metadata": {},
   "source": [
    "## Chapter: Data"
   ]
  },
  {
   "cell_type": "code",
   "execution_count": null,
   "metadata": {
    "scrolled": true
   },
   "outputs": [],
   "source": [
    "data MyBool = MyTrue | myfalse"
   ]
  },
  {
   "cell_type": "markdown",
   "metadata": {},
   "source": [
    "<span class=\"hint\">\n",
    "    Capital letters for constructors!\n",
    "</span>"
   ]
  },
  {
   "cell_type": "markdown",
   "metadata": {},
   "source": [
    "### Exercise: Building Boolean Logic"
   ]
  },
  {
   "cell_type": "code",
   "execution_count": null,
   "metadata": {},
   "outputs": [],
   "source": [
    "myNot MyTrue  = MyFalse\n",
    "myNot MyFalse = not (MyFalse)\n",
    "\n",
    "myNot MyFalse"
   ]
  },
  {
   "cell_type": "markdown",
   "metadata": {},
   "source": [
    "<span class=\"hint\">\n",
    "    You can't print a datatype unless it has a `Show` instance.<br>\n",
    "</span>"
   ]
  },
  {
   "cell_type": "markdown",
   "metadata": {},
   "source": [
    "<span class=\"hint\">\n",
    "    Add a `deriving (Show)` clause to MyBool.\n",
    "</span>"
   ]
  },
  {
   "cell_type": "markdown",
   "metadata": {},
   "source": [
    "### Exercise: Animals"
   ]
  },
  {
   "cell_type": "code",
   "execution_count": null,
   "metadata": {
    "scrolled": false
   },
   "outputs": [],
   "source": [
    "data Animal = Dog | Cat\n",
    "\n",
    "if Dog == Cat\n",
    "    then print \"weird\"\n",
    "    else print \"expected\""
   ]
  },
  {
   "cell_type": "markdown",
   "metadata": {},
   "source": [
    "<span class=\"hint\">\n",
    "    You can't compare a datatype for equality unless it has an `Eq` instance.<br>\n",
    "    Examine the `:info` for a familiar datatype such as `Bool` for a hint.\n",
    "</span>"
   ]
  },
  {
   "cell_type": "markdown",
   "metadata": {},
   "source": [
    "<span class=\"hint\">\n",
    "    Add a `deriving (Show, Eq)` clause to Animal.\n",
    "</span>"
   ]
  },
  {
   "cell_type": "markdown",
   "metadata": {},
   "source": [
    "### Exercise: Operating on Your Own Data-Types"
   ]
  },
  {
   "cell_type": "code",
   "execution_count": null,
   "metadata": {},
   "outputs": [],
   "source": [
    "whatAnimal \"woof\" = Dog\n",
    "whatAnimal \"meow\" = Cat\n",
    "\n",
    "whatAnimal \"meow\" > whatAnimal \"woof\""
   ]
  },
  {
   "cell_type": "markdown",
   "metadata": {},
   "source": [
    "<span class=\"hint\">\n",
    "    You must have an 'Ord' instance defined.\n",
    "</span>"
   ]
  },
  {
   "cell_type": "markdown",
   "metadata": {},
   "source": [
    "### Exercise: A bucket of Stuff"
   ]
  },
  {
   "cell_type": "code",
   "execution_count": null,
   "metadata": {},
   "outputs": [],
   "source": [
    "data Bucket stuff = Bucket [stuff]\n",
    "\n",
    "tip_over (Bucket x) = Bucket []\n",
    "\n",
    "throw_out (Bucket (Just x)) = Bucket Nothing\n",
    "throw_out (Bucket Nothing)= Bucket Nothing"
   ]
  },
  {
   "cell_type": "markdown",
   "metadata": {},
   "source": [
    "### Exercise: Mapping your data"
   ]
  },
  {
   "cell_type": "code",
   "execution_count": null,
   "metadata": {},
   "outputs": [],
   "source": [
    "data Bird deriving (Show)\n",
    "\n",
    "data Tree = Twig Bird | Branch Tree Tree\n",
    "\n",
    "climb act combine (Twig b) = act b\n",
    "climb act combine (Branch b b) = combine (climb b) (climb b)\n",
    "\n",
    "tree = Branch (Twig Bird) (Branch (Twig Bird) (Twig Bird))\n",
    "\n",
    "climb (\\b -> show b ++ \"!   \") (++)"
   ]
  },
  {
   "cell_type": "markdown",
   "metadata": {},
   "source": [
    "<span class=\"hint\">\n",
    "    Datatypes should have at least one constructor... (Not strictly true, but for now.)\n",
    "</span>"
   ]
  },
  {
   "cell_type": "markdown",
   "metadata": {},
   "source": [
    "## Chapter: Classes"
   ]
  },
  {
   "cell_type": "code",
   "execution_count": null,
   "metadata": {
    "scrolled": true
   },
   "outputs": [],
   "source": [
    "class Noisy x where\n",
    "    listen :: x -> String\n",
    "    \n",
    "instance Noisy Bird where\n",
    "    listen Bird = \"Chirp!\"\n",
    "    \n",
    "print $ map listen [Bird, Bird, Bird]\n",
    "\n",
    "data Rabbit = Rabbit\n",
    "\n",
    "instance Noisy Rabbit where\n",
    "    listen Rabbit = \"Thump!\"\n",
    "    \n",
    "print $ map listen [Rabbit, Rabbit]\n",
    "\n",
    "print $ map listen [Bird, Rabbit, Bird]"
   ]
  },
  {
   "cell_type": "markdown",
   "metadata": {},
   "source": [
    "<span class=\"hint\">\n",
    "    This isn't possible! Find another way to have a list of rabbits and birds.\n",
    "</span>"
   ]
  },
  {
   "cell_type": "markdown",
   "metadata": {},
   "source": [
    "### Exercise: Print"
   ]
  },
  {
   "cell_type": "code",
   "execution_count": null,
   "metadata": {},
   "outputs": [],
   "source": [
    "print 1 + print 2"
   ]
  },
  {
   "cell_type": "markdown",
   "metadata": {},
   "source": [
    "<span class=\"hint\">\n",
    "    Examine the type of print closely!\n",
    "</span>"
   ]
  },
  {
   "cell_type": "markdown",
   "metadata": {},
   "source": [
    "### Exercise: Sequencing Prints"
   ]
  },
  {
   "cell_type": "code",
   "execution_count": null,
   "metadata": {},
   "outputs": [],
   "source": [
    "map print [1,2,3]"
   ]
  },
  {
   "cell_type": "markdown",
   "metadata": {},
   "source": [
    "<span class=\"hint\">\n",
    "    See if you can find a method to use from the Monad class to allow you run a list of IO actions.\n",
    "</span>"
   ]
  }
 ],
 "metadata": {
  "kernelspec": {
   "display_name": "Haskell",
   "language": "haskell",
   "name": "haskell"
  },
  "language_info": {
   "codemirror_mode": "ihaskell",
   "file_extension": ".hs",
   "name": "haskell",
   "version": "8.2.2"
  }
 },
 "nbformat": 4,
 "nbformat_minor": 2
}
